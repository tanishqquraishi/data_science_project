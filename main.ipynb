{
 "cells": [
  {
   "cell_type": "markdown",
   "metadata": {},
   "source": [
    "import libraries and dataset"
   ]
  },
  {
   "cell_type": "code",
   "execution_count": 30,
   "metadata": {},
   "outputs": [],
   "source": [
    "import pandas as pd\n",
    "import numpy as np\n",
    "from sklearn.preprocessing import MinMaxScaler\n",
    "from sklearn.feature_extraction.text import CountVectorizer\n",
    "from datetime import datetime"
   ]
  },
  {
   "cell_type": "code",
   "execution_count": 31,
   "metadata": {},
   "outputs": [],
   "source": [
    "file_path = r\"C:\\Users\\Tanishq\\Documents\\stuttgart\\Study\\winter 25\\DS and AI for industry work1\\project\\data_science_project\\ted_main_v2.csv\\ted_main_v2.csv\""
   ]
  },
  {
   "cell_type": "code",
   "execution_count": 32,
   "metadata": {},
   "outputs": [
    {
     "name": "stdout",
     "output_type": "stream",
     "text": [
      "True\n"
     ]
    }
   ],
   "source": [
    "import os\n",
    "print(os.path.exists(file_path))"
   ]
  },
  {
   "cell_type": "code",
   "execution_count": 33,
   "metadata": {},
   "outputs": [],
   "source": [
    "df = pd.read_csv(file_path)"
   ]
  },
  {
   "cell_type": "code",
   "execution_count": 34,
   "metadata": {},
   "outputs": [
    {
     "data": {
      "text/html": [
       "<div>\n",
       "<style scoped>\n",
       "    .dataframe tbody tr th:only-of-type {\n",
       "        vertical-align: middle;\n",
       "    }\n",
       "\n",
       "    .dataframe tbody tr th {\n",
       "        vertical-align: top;\n",
       "    }\n",
       "\n",
       "    .dataframe thead th {\n",
       "        text-align: right;\n",
       "    }\n",
       "</style>\n",
       "<table border=\"1\" class=\"dataframe\">\n",
       "  <thead>\n",
       "    <tr style=\"text-align: right;\">\n",
       "      <th></th>\n",
       "      <th>speaker_name</th>\n",
       "      <th>title</th>\n",
       "      <th>posted_date</th>\n",
       "      <th>duration</th>\n",
       "      <th>Link</th>\n",
       "      <th>about_speaker</th>\n",
       "      <th>about_talk</th>\n",
       "      <th>views</th>\n",
       "      <th>tags</th>\n",
       "    </tr>\n",
       "  </thead>\n",
       "  <tbody>\n",
       "    <tr>\n",
       "      <th>0</th>\n",
       "      <td>Alex Gendler</td>\n",
       "      <td>The Egyptian myth of the death of Osiris</td>\n",
       "      <td>Jul 2020</td>\n",
       "      <td>3:56</td>\n",
       "      <td>https://www.ted.com/talks/alex_gendler_the_egy...</td>\n",
       "      <td>NaN</td>\n",
       "      <td>Long jealous of his older brother Osiris, the ...</td>\n",
       "      <td>208,703</td>\n",
       "      <td>education,ancient world,TED-Ed</td>\n",
       "    </tr>\n",
       "    <tr>\n",
       "      <th>1</th>\n",
       "      <td>Shari Davis</td>\n",
       "      <td>What if you could help decide how the governme...</td>\n",
       "      <td>Jul 2020</td>\n",
       "      <td>10:28</td>\n",
       "      <td>https://www.ted.com/talks/shari_davis_what_if_...</td>\n",
       "      <td>As a leader of the Participatory Budgeting Pro...</td>\n",
       "      <td>What if you could help decide how the governme...</td>\n",
       "      <td>425,688</td>\n",
       "      <td>democracy,leadership,community</td>\n",
       "    </tr>\n",
       "    <tr>\n",
       "      <th>2</th>\n",
       "      <td>Nita Mosby Tyler</td>\n",
       "      <td>Want a more just world? Be an unlikely ally</td>\n",
       "      <td>Jul 2020</td>\n",
       "      <td>10:15</td>\n",
       "      <td>https://www.ted.com/talks/nita_mosby_tyler_wan...</td>\n",
       "      <td>Nita Mosby Tyler specializes in the developmen...</td>\n",
       "      <td>A more equal world starts with you. Citing a f...</td>\n",
       "      <td>460,269</td>\n",
       "      <td>activism,inequality,race</td>\n",
       "    </tr>\n",
       "    <tr>\n",
       "      <th>3</th>\n",
       "      <td>Susan Lupack</td>\n",
       "      <td>The race to decode a mysterious language</td>\n",
       "      <td>Jul 2020</td>\n",
       "      <td>4:24</td>\n",
       "      <td>https://www.ted.com/talks/susan_lupack_the_rac...</td>\n",
       "      <td>NaN</td>\n",
       "      <td>In the early 1900s, archaeologist Sir Arthur E...</td>\n",
       "      <td>350,202</td>\n",
       "      <td>TED-Ed,education,language</td>\n",
       "    </tr>\n",
       "    <tr>\n",
       "      <th>4</th>\n",
       "      <td>Ariel Waldman</td>\n",
       "      <td>The colorful critter world of microbes in Anta...</td>\n",
       "      <td>Jul 2020</td>\n",
       "      <td>5:56</td>\n",
       "      <td>https://www.ted.com/talks/ariel_waldman_the_co...</td>\n",
       "      <td>An artist who's pivoted to science, Ariel Wald...</td>\n",
       "      <td>In this tour of the microscopic world, explore...</td>\n",
       "      <td>333,482</td>\n",
       "      <td>science,animals,exploration</td>\n",
       "    </tr>\n",
       "  </tbody>\n",
       "</table>\n",
       "</div>"
      ],
      "text/plain": [
       "       speaker_name                                              title  \\\n",
       "0      Alex Gendler           The Egyptian myth of the death of Osiris   \n",
       "1       Shari Davis  What if you could help decide how the governme...   \n",
       "2  Nita Mosby Tyler        Want a more just world? Be an unlikely ally   \n",
       "3      Susan Lupack           The race to decode a mysterious language   \n",
       "4     Ariel Waldman  The colorful critter world of microbes in Anta...   \n",
       "\n",
       "  posted_date duration                                               Link  \\\n",
       "0    Jul 2020     3:56  https://www.ted.com/talks/alex_gendler_the_egy...   \n",
       "1    Jul 2020    10:28  https://www.ted.com/talks/shari_davis_what_if_...   \n",
       "2    Jul 2020    10:15  https://www.ted.com/talks/nita_mosby_tyler_wan...   \n",
       "3    Jul 2020     4:24  https://www.ted.com/talks/susan_lupack_the_rac...   \n",
       "4    Jul 2020     5:56  https://www.ted.com/talks/ariel_waldman_the_co...   \n",
       "\n",
       "                                       about_speaker  \\\n",
       "0                                                NaN   \n",
       "1  As a leader of the Participatory Budgeting Pro...   \n",
       "2  Nita Mosby Tyler specializes in the developmen...   \n",
       "3                                                NaN   \n",
       "4  An artist who's pivoted to science, Ariel Wald...   \n",
       "\n",
       "                                          about_talk    views  \\\n",
       "0  Long jealous of his older brother Osiris, the ...  208,703   \n",
       "1  What if you could help decide how the governme...  425,688   \n",
       "2  A more equal world starts with you. Citing a f...  460,269   \n",
       "3  In the early 1900s, archaeologist Sir Arthur E...  350,202   \n",
       "4  In this tour of the microscopic world, explore...  333,482   \n",
       "\n",
       "                             tags  \n",
       "0  education,ancient world,TED-Ed  \n",
       "1  democracy,leadership,community  \n",
       "2        activism,inequality,race  \n",
       "3       TED-Ed,education,language  \n",
       "4     science,animals,exploration  "
      ]
     },
     "execution_count": 34,
     "metadata": {},
     "output_type": "execute_result"
    }
   ],
   "source": [
    "df.head(5)"
   ]
  },
  {
   "cell_type": "code",
   "execution_count": 35,
   "metadata": {},
   "outputs": [
    {
     "name": "stdout",
     "output_type": "stream",
     "text": [
      "Raw Data Preview:\n",
      "     views duration\n",
      "0  208,703     3:56\n",
      "1  425,688    10:28\n",
      "2  460,269    10:15\n",
      "3  350,202     4:24\n",
      "4  333,482     5:56\n",
      "5   50,273    14:51\n",
      "6  169,272     5:10\n",
      "7  575,657    10:58\n",
      "8      NaN    26:32\n",
      "9  262,067     4:54\n"
     ]
    }
   ],
   "source": [
    "print(\"Raw Data Preview:\")\n",
    "print(df[['views', 'duration']].head(10))\n"
   ]
  },
  {
   "cell_type": "code",
   "execution_count": 36,
   "metadata": {},
   "outputs": [
    {
     "name": "stdout",
     "output_type": "stream",
     "text": [
      "Cleaned Data Preview:\n",
      "<class 'pandas.core.frame.DataFrame'>\n",
      "RangeIndex: 2160 entries, 0 to 2159\n",
      "Data columns (total 2 columns):\n",
      " #   Column    Non-Null Count  Dtype  \n",
      "---  ------    --------------  -----  \n",
      " 0   views     2155 non-null   float64\n",
      " 1   duration  2155 non-null   float64\n",
      "dtypes: float64(2)\n",
      "memory usage: 33.9 KB\n",
      "None\n",
      "              views     duration\n",
      "count  2.155000e+03  2155.000000\n",
      "mean   2.060034e+06   659.196752\n",
      "std    2.944472e+06   340.526498\n",
      "min    1.023100e+04    60.000000\n",
      "25%    9.884700e+05   343.500000\n",
      "50%    1.496189e+06   682.000000\n",
      "75%    2.128472e+06   863.500000\n",
      "max    6.023746e+07  3503.000000\n",
      "{'Number of Unique Videos': 2160, 'Number of Unique Speakers': 1915, 'Top 5 Viewed Videos':                                                   title       views\n",
      "1855  This is what happens when you reply to spam email  60237459.0\n",
      "1800         Inside the mind of a master procrastinator  40135933.0\n",
      "2056                 The next outbreak? We're not ready  36342453.0\n",
      "1136                     My philosophy for a happy life  35114993.0\n",
      "1860  What makes a good life? Lessons from the longe...  34095862.0}\n"
     ]
    }
   ],
   "source": [
    "# Clean 'views' column\n",
    "df['views'] = df['views'].replace(['', 'N/A', 'None'], np.nan)  # Replace invalid entries with NaN\n",
    "df['views'] = df['views'].astype(str).str.replace(r',', '', regex=True)  # Remove commas\n",
    "df['views'] = pd.to_numeric(df['views'], errors='coerce')  # Convert to numeric\n",
    "\n",
    "# Clean 'duration' column\n",
    "def convert_duration_to_seconds(duration):\n",
    "    try:\n",
    "        minutes, seconds = map(int, duration.split(':'))\n",
    "        return minutes * 60 + seconds\n",
    "    except:\n",
    "        return np.nan  # Handle invalid formats\n",
    "\n",
    "df['duration'] = df['duration'].apply(convert_duration_to_seconds)  # Convert duration to seconds\n",
    "\n",
    "# Verify cleaned data\n",
    "print(\"Cleaned Data Preview:\")\n",
    "print(df[['views', 'duration']].info())\n",
    "print(df[['views', 'duration']].describe())\n",
    "\n",
    "# Step 1: Number of unique videos\n",
    "num_unique_videos = df['title'].nunique()\n",
    "\n",
    "# Step 2: Number of unique speakers\n",
    "num_unique_speakers = df['speaker_name'].nunique()\n",
    "\n",
    "# Step 3: Top 5 viewed videos\n",
    "top_5_videos = df[['title', 'views']].sort_values(by='views', ascending=False).head(5)\n",
    "\n",
    "# Display results\n",
    "result = {\n",
    "    \"Number of Unique Videos\": num_unique_videos,\n",
    "    \"Number of Unique Speakers\": num_unique_speakers,\n",
    "    \"Top 5 Viewed Videos\": top_5_videos\n",
    "}\n",
    "print(result)"
   ]
  },
  {
   "cell_type": "code",
   "execution_count": 37,
   "metadata": {},
   "outputs": [
    {
     "name": "stdout",
     "output_type": "stream",
     "text": [
      "Updated Data Info:\n",
      "<class 'pandas.core.frame.DataFrame'>\n",
      "Index: 2155 entries, 0 to 2159\n",
      "Data columns (total 2 columns):\n",
      " #   Column    Non-Null Count  Dtype  \n",
      "---  ------    --------------  -----  \n",
      " 0   views     2155 non-null   float64\n",
      " 1   duration  2150 non-null   float64\n",
      "dtypes: float64(2)\n",
      "memory usage: 50.5 KB\n",
      "None\n",
      "{'Number of Unique Videos': 2155, 'Number of Unique Speakers': 1912, 'Top 5 Viewed Videos':                                                   title       views\n",
      "1855  This is what happens when you reply to spam email  60237459.0\n",
      "1800         Inside the mind of a master procrastinator  40135933.0\n",
      "2056                 The next outbreak? We're not ready  36342453.0\n",
      "1136                     My philosophy for a happy life  35114993.0\n",
      "1860  What makes a good life? Lessons from the longe...  34095862.0}\n"
     ]
    }
   ],
   "source": [
    "# Remove rows where 'views' is NaN\n",
    "df = df.dropna(subset=['views'])\n",
    "\n",
    "# Verify the updated data\n",
    "print(\"Updated Data Info:\")\n",
    "print(df[['views', 'duration']].info())\n",
    "\n",
    "# Step 1: Number of unique videos\n",
    "num_unique_videos = df['title'].nunique()\n",
    "\n",
    "# Step 2: Number of unique speakers\n",
    "num_unique_speakers = df['speaker_name'].nunique()\n",
    "\n",
    "# Step 3: Top 5 viewed videos\n",
    "top_5_videos = df[['title', 'views']].sort_values(by='views', ascending=False).head(5)\n",
    "\n",
    "# Display results\n",
    "result = {\n",
    "    \"Number of Unique Videos\": num_unique_videos,\n",
    "    \"Number of Unique Speakers\": num_unique_speakers,\n",
    "    \"Top 5 Viewed Videos\": top_5_videos\n",
    "}\n",
    "print(result)\n"
   ]
  },
  {
   "cell_type": "code",
   "execution_count": null,
   "metadata": {},
   "outputs": [],
   "source": []
  }
 ],
 "metadata": {
  "kernelspec": {
   "display_name": "Python 3 (ipykernel)",
   "language": "python",
   "name": "python3"
  },
  "language_info": {
   "codemirror_mode": {
    "name": "ipython",
    "version": 3
   },
   "file_extension": ".py",
   "mimetype": "text/x-python",
   "name": "python",
   "nbconvert_exporter": "python",
   "pygments_lexer": "ipython3",
   "version": "3.11.0"
  }
 },
 "nbformat": 4,
 "nbformat_minor": 2
}
